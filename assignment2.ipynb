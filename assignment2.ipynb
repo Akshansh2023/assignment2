{
 "cells": [
  {
   "cell_type": "markdown",
   "id": "73e65348-a818-45a7-96ba-8d976e5ea752",
   "metadata": {},
   "source": [
    "1. Write a program to accept percentage from the user and display the grade according to the following criteria:\n",
    "Marks           Grade \n",
    ">90              A\n",
    ">80 and <=90     B\n",
    ">=60 and <=80    C\n",
    "below 60         D"
   ]
  },
  {
   "cell_type": "code",
   "execution_count": null,
   "id": "953e3d58-c8b8-4a76-832b-03653fed6de0",
   "metadata": {},
   "outputs": [],
   "source": [
    "solution:-\n",
    "\n",
    "markspercentage = int(input(\"Enter the marks percentage of Student    \"))\n",
    "if (markspercentage >90):\n",
    "    print(\"Grade 'A'\")\n",
    "elif (markspercentage >80 and markspercentage <=90):\n",
    "    print(\"Grade 'B'\")\n",
    "elif (markspercentage >60 and markspercentage <=80):\n",
    "    print(\"Grade 'C'\")\n",
    "else:\n",
    "    print(\"Grade 'D'\")\n"
   ]
  },
  {
   "cell_type": "code",
   "execution_count": null,
   "id": "eb49d54f-21ec-4259-ab27-d7b561d8b16b",
   "metadata": {},
   "outputs": [],
   "source": [
    "2 Write a program to accept the cost price of a bike and display the road tax to be paid according to the\n",
    "following criteria:\n",
    "Tax                                Cost Price(in Rs)\n",
    "15%                                 >100000\n",
    "10%                                 >50000 and <= 100000\n",
    "5%                                  <=50000"
   ]
  },
  {
   "cell_type": "code",
   "execution_count": null,
   "id": "e14e8822-abd1-4645-b013-62ba92fda6f5",
   "metadata": {},
   "outputs": [],
   "source": [
    "cp = int(input(\"Enter the Cost Price Of Bike   \"))\n",
    "if (cp >100000):\n",
    "    print(\" Road Tax 15%\")\n",
    "elif (cp >50000 and cp <=100000):\n",
    "    print(\"Road Tax 10%\")\n",
    "else:\n",
    "    print(\"Road Tax 5% \")\n"
   ]
  },
  {
   "cell_type": "code",
   "execution_count": null,
   "id": "42e384a2-019c-4a0c-92d4-a826f38ba057",
   "metadata": {},
   "outputs": [],
   "source": [
    "3. Accept any city from the user and display monuments of that city.\n",
    "City                                            Monument\n",
    "Delhi                                           Red Fort\n",
    "Agra                                            Taj Mahal\n",
    "Jaipur                                          Jal Mahal"
   ]
  },
  {
   "cell_type": "code",
   "execution_count": 1,
   "id": "eb26a8a6-d02d-475e-bef7-6f6de60947bd",
   "metadata": {},
   "outputs": [
    {
     "name": "stdin",
     "output_type": "stream",
     "text": [
      "Enter the City Name\n",
      " Available City Name 'DELHI','AGRA','JAIPUR'  delhi\n"
     ]
    },
    {
     "name": "stdout",
     "output_type": "stream",
     "text": [
      " Red Fort\n"
     ]
    }
   ],
   "source": [
    "city= input(\"Enter the City Name\\n Available City Name 'DELHI','AGRA','JAIPUR' \")\n",
    "if (city == str(\"delhi\")):\n",
    "    print(\" Red Fort\")\n",
    "elif (city == str(\"agra\")):\n",
    "    print(\"Taj Mahal \")\n",
    "elif (city == str(\"jaipur\")):\n",
    "    print(\"Jal Mahal \")\n",
    "else:\n",
    "    print(\"City detail is not available \")\n"
   ]
  },
  {
   "cell_type": "code",
   "execution_count": null,
   "id": "4f26b213-66ab-4b2f-bc25-f717f1b9cdba",
   "metadata": {},
   "outputs": [],
   "source": [
    "4. Check how many times a given number can be divided by 3 before it is less than or equal to 10."
   ]
  },
  {
   "cell_type": "code",
   "execution_count": null,
   "id": "af87db76-b105-4672-9db8-5a1c6ca816db",
   "metadata": {},
   "outputs": [],
   "source": [
    "x=int(input(\"Give a number to Check how many times it can be divided by 3 before it is less than or equal to 10.  \\n\"))\n",
    "\n",
    "count = 0\n",
    "\n",
    "while x > 10:\n",
    "        x = x/3\n",
    "        count = count + 1\n",
    "\n",
    "print(count)"
   ]
  },
  {
   "cell_type": "code",
   "execution_count": null,
   "id": "787d070c-d183-4992-a1d0-6c9e00102447",
   "metadata": {},
   "outputs": [],
   "source": [
    "5. Why and When to Use while Loop in Python give a detailed description with example"
   ]
  },
  {
   "cell_type": "code",
   "execution_count": null,
   "id": "313f525e-924e-43e4-98ff-3973af8a777a",
   "metadata": {},
   "outputs": [],
   "source": [
    "while loop is an indefinite itteration that is used when a loop repeats unkown number of times and end when some condition is met.\n",
    "\n",
    "Note that in case of while loop the indented body of the loop should modify at least one variable in the test condition else the result is infinite loop.\n",
    "Example of use:\n",
    "The execution of the block of code require that the user enter specified input: while input == specified_input:.\n",
    "When you have a condition with comparison operators: while count < limit and stop != False:.\n",
    "example \n",
    "i = 0\n",
    "while i < 10:\n",
    "    print(i)\n",
    "    i += 1"
   ]
  },
  {
   "cell_type": "code",
   "execution_count": null,
   "id": "6a985f96-22cf-49c1-b6ab-4a7544a61f29",
   "metadata": {},
   "outputs": [],
   "source": [
    "6. Use nested while loop to print 3 different pattern."
   ]
  },
  {
   "cell_type": "code",
   "execution_count": null,
   "id": "6914eac7-96e5-42f3-bd54-777557da4180",
   "metadata": {},
   "outputs": [],
   "source": [
    "answer =\n",
    "-------------first-------------\n",
    "row=0\n",
    "while row <= 4 :\n",
    "    star=0\n",
    "    while star <=row :\n",
    "        print(\"*\",end ='')\n",
    "        star= star + 1\n",
    "    print(\"\")\n",
    "    row=row+1\n",
    "-------------second------------\n",
    "row=1\n",
    "while row <= 4 :\n",
    "    star=5-row\n",
    "    while star > 0 :\n",
    "        print(\"*\",end ='')\n",
    "        star= star - 1\n",
    "    print(\"\")\n",
    "    row=row+1\n",
    "------------third-------------\n",
    "num =int (input (\"Enter number of rows \"))\n",
    "i = 1\n",
    "while i <= num:\n",
    "    j =1\n",
    "    while j<= i:\n",
    "        print(j, end=\"\")\n",
    "        j += 1\n",
    "    print()\n",
    "    i+= 1\n"
   ]
  },
  {
   "cell_type": "code",
   "execution_count": null,
   "id": "70f30621-272e-48b8-be91-158c4d6080ba",
   "metadata": {},
   "outputs": [],
   "source": [
    "7. Reversea while loop to display numbers from 10 to 1. python"
   ]
  },
  {
   "cell_type": "code",
   "execution_count": null,
   "id": "f3cb4ea8-6654-4c26-be87-7c83600d380f",
   "metadata": {},
   "outputs": [],
   "source": [
    "num = 10\n",
    "while num >0:\n",
    "    print(num)\n",
    "    num=num-1"
   ]
  },
  {
   "cell_type": "code",
   "execution_count": null,
   "id": "f02fcf0a-5941-49ad-8820-9072f35609e9",
   "metadata": {},
   "outputs": [],
   "source": []
  },
  {
   "cell_type": "code",
   "execution_count": null,
   "id": "ae54276b-b2e9-4bc9-ad02-5c0f0c4cda8b",
   "metadata": {},
   "outputs": [],
   "source": []
  },
  {
   "cell_type": "code",
   "execution_count": null,
   "id": "3c3b0200-8650-445f-af0f-54017a5ae289",
   "metadata": {},
   "outputs": [],
   "source": []
  },
  {
   "cell_type": "code",
   "execution_count": null,
   "id": "078e9be5-3709-47de-b21f-e0e10abb51e4",
   "metadata": {},
   "outputs": [],
   "source": []
  },
  {
   "cell_type": "code",
   "execution_count": null,
   "id": "6ab1911e-befd-4bb8-9520-f47c9194f8bf",
   "metadata": {},
   "outputs": [],
   "source": []
  },
  {
   "cell_type": "code",
   "execution_count": null,
   "id": "087cfe4b-3342-47e6-810d-414620b32d9e",
   "metadata": {},
   "outputs": [],
   "source": []
  },
  {
   "cell_type": "code",
   "execution_count": null,
   "id": "54b68409-37a1-48a3-8937-58c7bba03dd3",
   "metadata": {},
   "outputs": [],
   "source": []
  }
 ],
 "metadata": {
  "kernelspec": {
   "display_name": "Python 3 (ipykernel)",
   "language": "python",
   "name": "python3"
  },
  "language_info": {
   "codemirror_mode": {
    "name": "ipython",
    "version": 3
   },
   "file_extension": ".py",
   "mimetype": "text/x-python",
   "name": "python",
   "nbconvert_exporter": "python",
   "pygments_lexer": "ipython3",
   "version": "3.10.8"
  }
 },
 "nbformat": 4,
 "nbformat_minor": 5
}
